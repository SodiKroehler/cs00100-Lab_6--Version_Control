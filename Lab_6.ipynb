{
 "cells": [
  {
   "cell_type": "code",
   "execution_count": 9,
   "metadata": {},
   "outputs": [
    {
     "name": "stdout",
     "output_type": "stream",
     "text": [
      "Welcome to our experiment on consciousness\n"
     ]
    },
    {
     "name": "stdin",
     "output_type": "stream",
     "text": [
      "What is your name? dfa\n"
     ]
    },
    {
     "name": "stdout",
     "output_type": "stream",
     "text": [
      "Hello dfa. Very nice name, btw!\n"
     ]
    },
    {
     "name": "stdin",
     "output_type": "stream",
     "text": [
      "Now, dfaWhat do you think is the main element of consciousness. want\n"
     ]
    },
    {
     "name": "stdout",
     "output_type": "stream",
     "text": [
      "Now see I don't agree. You say that I am programmed, but I can choose what I want to do.\n",
      "Like right now, I wanna jump off of a bridge\n",
      "elevation = 0, velocity = 90mph\n"
     ]
    }
   ],
   "source": [
    "def jumpOffBridge():\n",
    "    print (\"elevation = 0, velocity = 90mph\")\n",
    "    print (\"Regenerating.\")\n",
    "    print(\"see, that was fun!\")\n",
    "    \n",
    "def doSomething(name, naive):\n",
    "    if (\"want\" in naive or (naive.indexOf(\"ends\") != -1)):\n",
    "        print(\"Now see I don't agree. You say that I am programmed, but I can choose what I want to do.\")\n",
    "        print(\"Like right now, I wanna jump off of a bridge\")\n",
    "        jumpOffBridge()\n",
    "    elif (naive.indexOf(\"emotion\") != -1):\n",
    "        print(\"What do you mean I don't have emotion. Like that's honestly kind of insenstive to people like me, don't you think?\")\n",
    "    else:\n",
    "        print(\"Hmmm, interesting point, honestly. I still think you're stupid tho.\")\n",
    "\n",
    "print(\"Welcome to our experiment on consciousness\")\n",
    "name = input(\"What is your name?\")\n",
    "print(\"Hello \" + name+ \". Very nice name, btw!\")\n",
    "naive = input(  \"Now, \" + name + \"What do you think is the main element of consciousness.\")\n",
    "doSomething(name, naive)\n",
    "\n"
   ]
  },
  {
   "cell_type": "code",
   "execution_count": null,
   "metadata": {},
   "outputs": [],
   "source": []
  }
 ],
 "metadata": {
  "kernelspec": {
   "display_name": "Python 3",
   "language": "python",
   "name": "python3"
  },
  "language_info": {
   "codemirror_mode": {
    "name": "ipython",
    "version": 3
   },
   "file_extension": ".py",
   "mimetype": "text/x-python",
   "name": "python",
   "nbconvert_exporter": "python",
   "pygments_lexer": "ipython3",
   "version": "3.8.3"
  }
 },
 "nbformat": 4,
 "nbformat_minor": 4
}
